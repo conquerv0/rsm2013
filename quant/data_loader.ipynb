{
 "cells": [
  {
   "cell_type": "code",
   "execution_count": 10,
   "metadata": {},
   "outputs": [],
   "source": [
    "import os"
   ]
  },
  {
   "cell_type": "code",
   "execution_count": 11,
   "metadata": {},
   "outputs": [
    {
     "data": {
      "text/plain": [
       "'c:\\\\Users\\\\ConquerV\\\\Documents\\\\2022-23Fall\\\\rsm2013\\\\quant\\\\data\\\\weight_1'"
      ]
     },
     "execution_count": 11,
     "metadata": {},
     "output_type": "execute_result"
    }
   ],
   "source": [
    "os.getcwd()"
   ]
  },
  {
   "cell_type": "code",
   "execution_count": 12,
   "metadata": {},
   "outputs": [],
   "source": [
    "os.chdir('c://Users//ConquerV//Documents//2022-23Fall//rsm2013//quant//data/weight_1')\n",
    "cwd = os.getcwd()\n",
    "# store paths to all data xml files in a list for iteration\n",
    "w1_path = [os.path.join(cwd, f) for f in os.listdir(cwd)]"
   ]
  },
  {
   "cell_type": "code",
   "execution_count": null,
   "metadata": {},
   "outputs": [],
   "source": [
    "class Dataloader:\n",
    "    \"\"\"A class that abstracts the loading process of training weights data\n",
    "\n",
    "    Attributes:\n",
    "        data_path: \n",
    "            relative path to the data folder, e.g. './data'\n",
    "    \"\"\"\n",
    "    def __init__(self, data_path: str):\n",
    "        \"\"\"Initialize Dataloader with data_path, the relative path to the data folder\"\"\"\n",
    "        self.data_path = data_path\n",
    "\n",
    "    def load_holdings(self, w_filename: str) -> pd.DataFrame:\n",
    "        \"\"\" Load return data from specified file and convert it to a multiindexed serie\n",
    "\n",
    "        Args: \n",
    "            w_filename: name of the portfolio holdings given a parameter file used in data folder, e.g. 'long_10_day_param_test_w.csv'\n",
    "\n",
    "        Return:\n",
    "            A pandas dataframe object with multiindex (date, asset)\n",
    "        \"\"\"\n",
    "        weights = pd.read_csv(self.data_path + w_filename)\n",
    "        asset_name = weights.columns[1:].astype(int)\n",
    "\n",
    "        # Pad the asset code and add corresponding prefixes \n",
    "        SZ = asset_name[np.where(asset_name < 100000)].astype(str).str.pad(6, side='left', fillchar='0').map('SZ{}'.format)\n",
    "        SH = asset_name[np.where(asset_name >= 100000)].astype(str).str.pad(6, side='left', fillchar='0').map('SH{}'.format)\n",
    "        \n",
    "        # Combine all indexes\n",
    "        daily_ret.columns = pd.Index(['Trddt']).union(SZ, sort=False).union(SH, sort=False)\n",
    "        \n",
    "        # Transform the table into desired shape\n",
    "        daily_ret = daily_ret.set_index('Trddt').stack()\n",
    "        daily_ret = daily_ret.rename_axis(['date', 'asset'])\n",
    "\n",
    "        return daily_ret.to_frame(\"1D\")\n"
   ]
  }
 ],
 "metadata": {
  "kernelspec": {
   "display_name": "Python 3.9.7 ('base')",
   "language": "python",
   "name": "python3"
  },
  "language_info": {
   "codemirror_mode": {
    "name": "ipython",
    "version": 3
   },
   "file_extension": ".py",
   "mimetype": "text/x-python",
   "name": "python",
   "nbconvert_exporter": "python",
   "pygments_lexer": "ipython3",
   "version": "3.9.7"
  },
  "orig_nbformat": 4,
  "vscode": {
   "interpreter": {
    "hash": "ad2bdc8ecc057115af97d19610ffacc2b4e99fae6737bb82f5d7fb13d2f2c186"
   }
  }
 },
 "nbformat": 4,
 "nbformat_minor": 2
}
